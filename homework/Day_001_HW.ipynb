{
 "cells": [
  {
   "cell_type": "code",
   "execution_count": null,
   "metadata": {},
   "outputs": [],
   "source": [
    "HW1\n",
    "def mean_square_error(y, yp):\n",
    "    mse = MSE = sum((y - yp) ** 2) / len(y)\n",
    "    return mse\n",
    "MSE = mse = mean_square_error(y, y_hat)\n",
    "print(\"The Mean Square Error is %.3f\" % MSE)"
   ]
  },
  {
   "cell_type": "code",
   "execution_count": null,
   "metadata": {},
   "outputs": [],
   "source": [
    "HW2\n",
    "1.我從dataset中找到了一筆有關於可取得的共享汽車位置的資料。因為這項服務處於剛起步的階段，\n",
    "但是已經有超過50%的使用者至少會使用一次，如果能追蹤各個地區可使用的汽車量，可以去預測不同地區的需求，\n",
    "使資源作更有效的分配。\n",
    "2.文中提到該筆資料是從AutoTel(提供該服務的公司)官網所擷取出，並且每隔幾分鐘會更新一次\n",
    "3.資料型態應該是結構化的表格，提供了確切的經緯度、車輛數\n",
    "4.可以透過評估該地區的實際需求和可使用車輛的差異(MSE)，來調整其商業模型(EX:在需求較高的地區提高對於使用者的收費)\n"
   ]
  },
  {
   "cell_type": "code",
   "execution_count": null,
   "metadata": {},
   "outputs": [],
   "source": [
    "HW3\n",
    "1.決定在一天中不同的時段該派遣多少的司機，以符合該時段的乘客需求。\n",
    "提升業績應該指能讓該時段的旅客數和該時段司機所能提供運量的比值盡量提高\n",
    "2.資料可以依據該公司先前各時段的平均載客數或APP使用率而定\n",
    "3.資料型態應該為結構化的數值、表格\n",
    "4.可以透過MSE或MAE的方法去預測各時段預測載客數和實際載客數的差異來決定各時段應該派遣的司機人數"
   ]
  }
 ],
 "metadata": {
  "kernelspec": {
   "display_name": "Python 3",
   "language": "python",
   "name": "python3"
  },
  "language_info": {
   "codemirror_mode": {
    "name": "ipython",
    "version": 3
   },
   "file_extension": ".py",
   "mimetype": "text/x-python",
   "name": "python",
   "nbconvert_exporter": "python",
   "pygments_lexer": "ipython3",
   "version": "3.7.3"
  }
 },
 "nbformat": 4,
 "nbformat_minor": 2
}
